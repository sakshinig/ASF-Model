{
 "cells": [
  {
   "cell_type": "code",
   "execution_count": 1,
   "id": "8c4649f1",
   "metadata": {},
   "outputs": [],
   "source": [
    "import numpy as np\n",
    "import pandas as pd\n",
    "import matplotlib.pyplot as plt\n",
    "import seaborn as sns\n",
    "%matplotlib inline"
   ]
  },
  {
   "cell_type": "code",
   "execution_count": 2,
   "id": "62a3ad30",
   "metadata": {},
   "outputs": [],
   "source": [
    "paperData = pd.read_csv(\"DataForMLPaper.csv\")"
   ]
  },
  {
   "cell_type": "code",
   "execution_count": 3,
   "id": "d99ef5e0",
   "metadata": {},
   "outputs": [
    {
     "data": {
      "text/html": [
       "<div>\n",
       "<style scoped>\n",
       "    .dataframe tbody tr th:only-of-type {\n",
       "        vertical-align: middle;\n",
       "    }\n",
       "\n",
       "    .dataframe tbody tr th {\n",
       "        vertical-align: top;\n",
       "    }\n",
       "\n",
       "    .dataframe thead th {\n",
       "        text-align: right;\n",
       "    }\n",
       "</style>\n",
       "<table border=\"1\" class=\"dataframe\">\n",
       "  <thead>\n",
       "    <tr style=\"text-align: right;\">\n",
       "      <th></th>\n",
       "      <th>Department</th>\n",
       "      <th>ColorPages</th>\n",
       "      <th>GrayscalePages</th>\n",
       "      <th>TotalPrintedPages</th>\n",
       "      <th>CostInk</th>\n",
       "      <th>CostPaper</th>\n",
       "      <th>CostTotal</th>\n",
       "      <th>Jobs</th>\n",
       "      <th>Month</th>\n",
       "    </tr>\n",
       "  </thead>\n",
       "  <tbody>\n",
       "    <tr>\n",
       "      <th>0</th>\n",
       "      <td>[No department]</td>\n",
       "      <td>2,742.00</td>\n",
       "      <td>605,447.00</td>\n",
       "      <td>608,189.00</td>\n",
       "      <td>30,683.65</td>\n",
       "      <td>9,122.84</td>\n",
       "      <td>39,806.49</td>\n",
       "      <td>11,355.00</td>\n",
       "      <td>11</td>\n",
       "    </tr>\n",
       "    <tr>\n",
       "      <th>1</th>\n",
       "      <td>Administrator</td>\n",
       "      <td>18.00</td>\n",
       "      <td>297.00</td>\n",
       "      <td>315.00</td>\n",
       "      <td>17.55</td>\n",
       "      <td>4.73</td>\n",
       "      <td>22.28</td>\n",
       "      <td>70.00</td>\n",
       "      <td>11</td>\n",
       "    </tr>\n",
       "    <tr>\n",
       "      <th>2</th>\n",
       "      <td>Arts</td>\n",
       "      <td>0.00</td>\n",
       "      <td>NaN</td>\n",
       "      <td>0.00</td>\n",
       "      <td>0.00</td>\n",
       "      <td>0.00</td>\n",
       "      <td>0.00</td>\n",
       "      <td>NaN</td>\n",
       "      <td>11</td>\n",
       "    </tr>\n",
       "    <tr>\n",
       "      <th>3</th>\n",
       "      <td>Business/Technology</td>\n",
       "      <td>0.00</td>\n",
       "      <td>3,465.00</td>\n",
       "      <td>3,465.00</td>\n",
       "      <td>173.25</td>\n",
       "      <td>51.98</td>\n",
       "      <td>225.23</td>\n",
       "      <td>44.00</td>\n",
       "      <td>11</td>\n",
       "    </tr>\n",
       "    <tr>\n",
       "      <th>4</th>\n",
       "      <td>CST</td>\n",
       "      <td>NaN</td>\n",
       "      <td>NaN</td>\n",
       "      <td>0.00</td>\n",
       "      <td>0.00</td>\n",
       "      <td>0.00</td>\n",
       "      <td>0.00</td>\n",
       "      <td>NaN</td>\n",
       "      <td>11</td>\n",
       "    </tr>\n",
       "  </tbody>\n",
       "</table>\n",
       "</div>"
      ],
      "text/plain": [
       "           Department  ColorPages  GrayscalePages  TotalPrintedPages  \\\n",
       "0     [No department]     2,742.00      605,447.00        608,189.00   \n",
       "1       Administrator        18.00          297.00            315.00   \n",
       "2                 Arts        0.00             NaN              0.00   \n",
       "3  Business/Technology        0.00        3,465.00          3,465.00   \n",
       "4                 CST          NaN             NaN              0.00   \n",
       "\n",
       "     CostInk CostPaper  CostTotal       Jobs  Month  \n",
       "0  30,683.65  9,122.84  39,806.49  11,355.00     11  \n",
       "1      17.55      4.73      22.28      70.00     11  \n",
       "2       0.00      0.00       0.00        NaN     11  \n",
       "3     173.25     51.98     225.23      44.00     11  \n",
       "4       0.00      0.00       0.00        NaN     11  "
      ]
     },
     "execution_count": 3,
     "metadata": {},
     "output_type": "execute_result"
    }
   ],
   "source": [
    "paperData.head()"
   ]
  },
  {
   "cell_type": "code",
   "execution_count": 4,
   "id": "8d955e09",
   "metadata": {},
   "outputs": [
    {
     "name": "stdout",
     "output_type": "stream",
     "text": [
      "<class 'pandas.core.frame.DataFrame'>\n",
      "RangeIndex: 323 entries, 0 to 322\n",
      "Data columns (total 9 columns):\n",
      " #   Column             Non-Null Count  Dtype \n",
      "---  ------             --------------  ----- \n",
      " 0   Department         323 non-null    object\n",
      " 1   ColorPages         298 non-null    object\n",
      " 2   GrayscalePages     298 non-null    object\n",
      " 3   TotalPrintedPages  323 non-null    object\n",
      " 4   CostInk            323 non-null    object\n",
      " 5   CostPaper          323 non-null    object\n",
      " 6   CostTotal          323 non-null    object\n",
      " 7   Jobs               298 non-null    object\n",
      " 8   Month              323 non-null    int64 \n",
      "dtypes: int64(1), object(8)\n",
      "memory usage: 22.8+ KB\n"
     ]
    }
   ],
   "source": [
    "paperData.info()"
   ]
  },
  {
   "cell_type": "code",
   "execution_count": 5,
   "id": "a9bbe4d1",
   "metadata": {},
   "outputs": [],
   "source": [
    "paperData['Department'] = pd.Categorical(paperData['Department '])"
   ]
  },
  {
   "cell_type": "code",
   "execution_count": 6,
   "id": "6414528d",
   "metadata": {},
   "outputs": [],
   "source": [
    "paperData['TotalPrintedPages'] = paperData['TotalPrintedPages'].str.replace(',', '').astype(float)\n",
    "paperData['Jobs'] = paperData['Jobs'].str.replace(',', '').astype(float)"
   ]
  },
  {
   "cell_type": "code",
   "execution_count": 7,
   "id": "bffe435e",
   "metadata": {},
   "outputs": [],
   "source": [
    "paperData.drop(\"Department \", inplace=True, axis=1)"
   ]
  },
  {
   "cell_type": "code",
   "execution_count": 8,
   "id": "0d6686ca",
   "metadata": {},
   "outputs": [],
   "source": [
    "paperData.dropna(inplace=True)"
   ]
  },
  {
   "cell_type": "code",
   "execution_count": 9,
   "id": "cab95571",
   "metadata": {},
   "outputs": [
    {
     "data": {
      "text/html": [
       "<div>\n",
       "<style scoped>\n",
       "    .dataframe tbody tr th:only-of-type {\n",
       "        vertical-align: middle;\n",
       "    }\n",
       "\n",
       "    .dataframe tbody tr th {\n",
       "        vertical-align: top;\n",
       "    }\n",
       "\n",
       "    .dataframe thead th {\n",
       "        text-align: right;\n",
       "    }\n",
       "</style>\n",
       "<table border=\"1\" class=\"dataframe\">\n",
       "  <thead>\n",
       "    <tr style=\"text-align: right;\">\n",
       "      <th></th>\n",
       "      <th>ColorPages</th>\n",
       "      <th>GrayscalePages</th>\n",
       "      <th>TotalPrintedPages</th>\n",
       "      <th>CostInk</th>\n",
       "      <th>CostPaper</th>\n",
       "      <th>CostTotal</th>\n",
       "      <th>Jobs</th>\n",
       "      <th>Month</th>\n",
       "      <th>Department</th>\n",
       "    </tr>\n",
       "  </thead>\n",
       "  <tbody>\n",
       "    <tr>\n",
       "      <th>0</th>\n",
       "      <td>2,742.00</td>\n",
       "      <td>605,447.00</td>\n",
       "      <td>608189.0</td>\n",
       "      <td>30,683.65</td>\n",
       "      <td>9,122.84</td>\n",
       "      <td>39,806.49</td>\n",
       "      <td>11355.0</td>\n",
       "      <td>11</td>\n",
       "      <td>[No department]</td>\n",
       "    </tr>\n",
       "    <tr>\n",
       "      <th>1</th>\n",
       "      <td>18.00</td>\n",
       "      <td>297.00</td>\n",
       "      <td>315.0</td>\n",
       "      <td>17.55</td>\n",
       "      <td>4.73</td>\n",
       "      <td>22.28</td>\n",
       "      <td>70.0</td>\n",
       "      <td>11</td>\n",
       "      <td>Administrator</td>\n",
       "    </tr>\n",
       "    <tr>\n",
       "      <th>3</th>\n",
       "      <td>0.00</td>\n",
       "      <td>3,465.00</td>\n",
       "      <td>3465.0</td>\n",
       "      <td>173.25</td>\n",
       "      <td>51.98</td>\n",
       "      <td>225.23</td>\n",
       "      <td>44.0</td>\n",
       "      <td>11</td>\n",
       "      <td>Business/Technology</td>\n",
       "    </tr>\n",
       "    <tr>\n",
       "      <th>5</th>\n",
       "      <td>0.00</td>\n",
       "      <td>11,586.00</td>\n",
       "      <td>11586.0</td>\n",
       "      <td>579.30</td>\n",
       "      <td>173.79</td>\n",
       "      <td>753.09</td>\n",
       "      <td>135.0</td>\n",
       "      <td>11</td>\n",
       "      <td>English</td>\n",
       "    </tr>\n",
       "    <tr>\n",
       "      <th>8</th>\n",
       "      <td>0.00</td>\n",
       "      <td>1,067.00</td>\n",
       "      <td>1067.0</td>\n",
       "      <td>53.35</td>\n",
       "      <td>16.01</td>\n",
       "      <td>69.36</td>\n",
       "      <td>361.0</td>\n",
       "      <td>11</td>\n",
       "      <td>Guidance</td>\n",
       "    </tr>\n",
       "    <tr>\n",
       "      <th>...</th>\n",
       "      <td>...</td>\n",
       "      <td>...</td>\n",
       "      <td>...</td>\n",
       "      <td>...</td>\n",
       "      <td>...</td>\n",
       "      <td>...</td>\n",
       "      <td>...</td>\n",
       "      <td>...</td>\n",
       "      <td>...</td>\n",
       "    </tr>\n",
       "    <tr>\n",
       "      <th>318</th>\n",
       "      <td>1,089.00</td>\n",
       "      <td>2,713.00</td>\n",
       "      <td>3802.0</td>\n",
       "      <td>299.00</td>\n",
       "      <td>57.03</td>\n",
       "      <td>356.03</td>\n",
       "      <td>509.0</td>\n",
       "      <td>10</td>\n",
       "      <td>Phys. Ed.</td>\n",
       "    </tr>\n",
       "    <tr>\n",
       "      <th>319</th>\n",
       "      <td>0.00</td>\n",
       "      <td>53,020.00</td>\n",
       "      <td>53020.0</td>\n",
       "      <td>2,651.00</td>\n",
       "      <td>795.30</td>\n",
       "      <td>3,446.30</td>\n",
       "      <td>397.0</td>\n",
       "      <td>10</td>\n",
       "      <td>Science</td>\n",
       "    </tr>\n",
       "    <tr>\n",
       "      <th>320</th>\n",
       "      <td>216.00</td>\n",
       "      <td>99,148.00</td>\n",
       "      <td>99364.0</td>\n",
       "      <td>4,989.80</td>\n",
       "      <td>1,490.46</td>\n",
       "      <td>6,480.26</td>\n",
       "      <td>851.0</td>\n",
       "      <td>10</td>\n",
       "      <td>Social Studies</td>\n",
       "    </tr>\n",
       "    <tr>\n",
       "      <th>321</th>\n",
       "      <td>890.00</td>\n",
       "      <td>2,114.00</td>\n",
       "      <td>3004.0</td>\n",
       "      <td>239.20</td>\n",
       "      <td>45.06</td>\n",
       "      <td>284.26</td>\n",
       "      <td>404.0</td>\n",
       "      <td>10</td>\n",
       "      <td>Transportation</td>\n",
       "    </tr>\n",
       "    <tr>\n",
       "      <th>322</th>\n",
       "      <td>0.00</td>\n",
       "      <td>41,302.00</td>\n",
       "      <td>41302.0</td>\n",
       "      <td>2,065.10</td>\n",
       "      <td>619.53</td>\n",
       "      <td>2,684.63</td>\n",
       "      <td>652.0</td>\n",
       "      <td>10</td>\n",
       "      <td>World Language</td>\n",
       "    </tr>\n",
       "  </tbody>\n",
       "</table>\n",
       "<p>297 rows × 9 columns</p>\n",
       "</div>"
      ],
      "text/plain": [
       "    ColorPages  GrayscalePages   TotalPrintedPages    CostInk CostPaper  \\\n",
       "0      2,742.00      605,447.00           608189.0  30,683.65  9,122.84   \n",
       "1         18.00          297.00              315.0      17.55      4.73   \n",
       "3          0.00        3,465.00             3465.0     173.25     51.98   \n",
       "5          0.00       11,586.00            11586.0     579.30    173.79   \n",
       "8          0.00        1,067.00             1067.0      53.35     16.01   \n",
       "..          ...             ...                ...        ...       ...   \n",
       "318    1,089.00        2,713.00             3802.0     299.00     57.03   \n",
       "319        0.00       53,020.00            53020.0   2,651.00    795.30   \n",
       "320      216.00       99,148.00            99364.0   4,989.80  1,490.46   \n",
       "321      890.00        2,114.00             3004.0     239.20     45.06   \n",
       "322        0.00       41,302.00            41302.0   2,065.10    619.53   \n",
       "\n",
       "     CostTotal     Jobs  Month           Department  \n",
       "0    39,806.49  11355.0     11     [No department]   \n",
       "1        22.28     70.0     11       Administrator   \n",
       "3       225.23     44.0     11  Business/Technology  \n",
       "5       753.09    135.0     11             English   \n",
       "8        69.36    361.0     11            Guidance   \n",
       "..         ...      ...    ...                  ...  \n",
       "318     356.03    509.0     10           Phys. Ed.   \n",
       "319   3,446.30    397.0     10             Science   \n",
       "320   6,480.26    851.0     10      Social Studies   \n",
       "321     284.26    404.0     10      Transportation   \n",
       "322   2,684.63    652.0     10      World Language   \n",
       "\n",
       "[297 rows x 9 columns]"
      ]
     },
     "execution_count": 9,
     "metadata": {},
     "output_type": "execute_result"
    }
   ],
   "source": [
    "paperData"
   ]
  },
  {
   "cell_type": "code",
   "execution_count": 10,
   "id": "4d4f7ae9",
   "metadata": {},
   "outputs": [
    {
     "data": {
      "text/plain": [
       "<seaborn.axisgrid.FacetGrid at 0x1a9e395cb80>"
      ]
     },
     "execution_count": 10,
     "metadata": {},
     "output_type": "execute_result"
    },
    {
     "data": {
      "image/png": "[encoded data removed]",
      "text/plain": [
       "<Figure size 2160x432 with 1 Axes>"
      ]
     },
     "metadata": {
      "needs_background": "light"
     },
     "output_type": "display_data"
    }
   ],
   "source": [
    "sns.catplot(x = \"Department\", y =\"TotalPrintedPages\", data = paperData, kind = \"bar\", aspect = 5, height = 6)"
   ]
  },
  {
   "cell_type": "code",
   "execution_count": 11,
   "id": "3faf446e",
   "metadata": {},
   "outputs": [
    {
     "data": {
      "text/plain": [
       "<seaborn.axisgrid.PairGrid at 0x1a9e450db20>"
      ]
     },
     "execution_count": 11,
     "metadata": {},
     "output_type": "execute_result"
    },
    {
     "data": {
      "image/png": "[encoded data removed]",
      "text/plain": [
       "<Figure size 540x540 with 12 Axes>"
      ]
     },
     "metadata": {
      "needs_background": "light"
     },
     "output_type": "display_data"
    }
   ],
   "source": [
    "sns.pairplot(paperData)"
   ]
  },
  {
   "cell_type": "code",
   "execution_count": 12,
   "id": "e558d58f",
   "metadata": {},
   "outputs": [],
   "source": [
    "from sklearn.model_selection import train_test_split"
   ]
  },
  {
   "cell_type": "code",
   "execution_count": 75,
   "id": "715007e3",
   "metadata": {},
   "outputs": [],
   "source": [
    "X = paperData.drop(['TotalPrintedPages', 'CostInk', 'CostPaper', 'CostTotal', 'ColorPages ', 'GrayscalePages ', 'Department'], axis = 1)"
   ]
  },
  {
   "cell_type": "code",
   "execution_count": 76,
   "id": "1dc8da14",
   "metadata": {},
   "outputs": [],
   "source": [
    "y = paperData['TotalPrintedPages']"
   ]
  },
  {
   "cell_type": "code",
   "execution_count": 77,
   "id": "9790d685",
   "metadata": {},
   "outputs": [],
   "source": [
    "X_train, X_test, y_train, y_test = train_test_split(X, y, test_size=0.33, random_state=42)"
   ]
  },
  {
   "cell_type": "code",
   "execution_count": 78,
   "id": "6cd76927",
   "metadata": {},
   "outputs": [],
   "source": [
    "from sklearn.ensemble import RandomForestRegressor"
   ]
  },
  {
   "cell_type": "code",
   "execution_count": 79,
   "id": "0db3d780",
   "metadata": {},
   "outputs": [],
   "source": [
    "rfc = RandomForestRegressor(n_estimators = 900)"
   ]
  },
  {
   "cell_type": "code",
   "execution_count": 80,
   "id": "36dd62e8",
   "metadata": {},
   "outputs": [
    {
     "data": {
      "text/plain": [
       "RandomForestRegressor(n_estimators=900)"
      ]
     },
     "execution_count": 80,
     "metadata": {},
     "output_type": "execute_result"
    }
   ],
   "source": [
    "rfc.fit(X_train, y_train)"
   ]
  },
  {
   "cell_type": "code",
   "execution_count": 81,
   "id": "229fdcf7",
   "metadata": {},
   "outputs": [],
   "source": [
    "rfc_pred = rfc.predict(X_test)"
   ]
  },
  {
   "cell_type": "code",
   "execution_count": 82,
   "id": "391498df",
   "metadata": {},
   "outputs": [
    {
     "name": "stdout",
     "output_type": "stream",
     "text": [
      "39689.8212998106\n"
     ]
    }
   ],
   "source": [
    "from sklearn.metrics import mean_squared_error\n",
    "print(mean_squared_error(y_test, rfc_pred)**.5) #200-42539.4, 300-40415.75, 400-39515"
   ]
  },
  {
   "cell_type": "code",
   "execution_count": 91,
   "id": "e7efb18f",
   "metadata": {},
   "outputs": [
    {
     "name": "stderr",
     "output_type": "stream",
     "text": [
      "C:\\Users\\saksh\\anaconda3\\lib\\site-packages\\sklearn\\base.py:450: UserWarning: X does not have valid feature names, but RandomForestRegressor was fitted with feature names\n",
      "  warnings.warn(\n"
     ]
    },
    {
     "data": {
      "text/plain": [
       "array([1304.74333333])"
      ]
     },
     "execution_count": 91,
     "metadata": {},
     "output_type": "execute_result"
    }
   ],
   "source": [
    "rfc.predict([[70,11]])"
   ]
  },
  {
   "cell_type": "code",
   "execution_count": null,
   "id": "98d46533",
   "metadata": {},
   "outputs": [],
   "source": []
  }
 ],
 "metadata": {
  "kernelspec": {
   "display_name": "Python 3 (ipykernel)",
   "language": "python",
   "name": "python3"
  },
  "language_info": {
   "codemirror_mode": {
    "name": "ipython",
    "version": 3
   },
   "file_extension": ".py",
   "mimetype": "text/x-python",
   "name": "python",
   "nbconvert_exporter": "python",
   "pygments_lexer": "ipython3",
   "version": "3.9.12"
  }
 },
 "nbformat": 4,
 "nbformat_minor": 5
}
